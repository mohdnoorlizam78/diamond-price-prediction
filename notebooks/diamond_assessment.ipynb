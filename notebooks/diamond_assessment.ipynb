{
 "cells": [
  {
   "cell_type": "markdown",
   "metadata": {},
   "source": [
    "## **1. Import Package Modules**"
   ]
  },
  {
   "cell_type": "code",
   "execution_count": 81,
   "metadata": {},
   "outputs": [],
   "source": [
    "# Import Packages\n",
    "import os, mlflow\n",
    "import numpy as np\n",
    "import pandas as pd\n",
    "import matplotlib.pyplot as plt\n",
    "import pickle as pkl\n",
    "from sklearn import datasets\n",
    "from sklearn.preprocessing import MinMaxScaler, StandardScaler\n",
    "from sklearn.model_selection import train_test_split\n",
    "from sklearn import metrics\n",
    "\n",
    "import warnings\n",
    "warnings.filterwarnings('ignore')\n",
    "\n",
    "# Import module (Regression Model)\n",
    "# Import module (Regression Model)\n",
    "from sklearn.linear_model import LogisticRegression, Ridge, SGDRegressor\n",
    "from sklearn.neighbors import KNeighborsRegressor\n",
    "from sklearn.tree import DecisionTreeRegressor\n",
    "from sklearn.svm import SVR\n",
    "from sklearn.ensemble import RandomForestRegressor\n",
    "from sklearn import model_selection, preprocessing, datasets, metrics\n",
    "\n",
    "# Import Pipeline\n",
    "from sklearn.pipeline import Pipeline"
   ]
  },
  {
   "cell_type": "markdown",
   "metadata": {},
   "source": [
    "## **2. Loading Dataset diamond.csv**"
   ]
  },
  {
   "cell_type": "code",
   "execution_count": 82,
   "metadata": {},
   "outputs": [
    {
     "name": "stdout",
     "output_type": "stream",
     "text": [
      "   Unnamed: 0  carat      cut color clarity  depth  table  price     x     y  \\\n",
      "0           1   0.23    Ideal     E     SI2   61.5   55.0    326  3.95  3.98   \n",
      "1           2   0.21  Premium     E     SI1   59.8   61.0    326  3.89  3.84   \n",
      "2           3   0.23     Good     E     VS1   56.9   65.0    327  4.05  4.07   \n",
      "3           4   0.29  Premium     I     VS2   62.4   58.0    334  4.20  4.23   \n",
      "4           5   0.31     Good     J     SI2   63.3   58.0    335  4.34  4.35   \n",
      "\n",
      "      z  \n",
      "0  2.43  \n",
      "1  2.31  \n",
      "2  2.31  \n",
      "3  2.63  \n",
      "4  2.75  \n"
     ]
    }
   ],
   "source": [
    "diamond_data = pd.read_csv(r\"C:\\Users\\001057\\Desktop\\ML_Ciast\\batch_1\\assessment\\datasets\\diamonds.csv\")\n",
    "print(diamond_data.head())"
   ]
  },
  {
   "cell_type": "code",
   "execution_count": 83,
   "metadata": {},
   "outputs": [
    {
     "name": "stdout",
     "output_type": "stream",
     "text": [
      "<class 'pandas.core.frame.DataFrame'>\n",
      "RangeIndex: 53940 entries, 0 to 53939\n",
      "Data columns (total 11 columns):\n",
      " #   Column      Non-Null Count  Dtype  \n",
      "---  ------      --------------  -----  \n",
      " 0   Unnamed: 0  53940 non-null  int64  \n",
      " 1   carat       53940 non-null  float64\n",
      " 2   cut         53940 non-null  object \n",
      " 3   color       53940 non-null  object \n",
      " 4   clarity     53940 non-null  object \n",
      " 5   depth       53940 non-null  float64\n",
      " 6   table       53940 non-null  float64\n",
      " 7   price       53940 non-null  int64  \n",
      " 8   x           53940 non-null  float64\n",
      " 9   y           53940 non-null  float64\n",
      " 10  z           53940 non-null  float64\n",
      "dtypes: float64(6), int64(2), object(3)\n",
      "memory usage: 4.5+ MB\n",
      "None\n"
     ]
    }
   ],
   "source": [
    "# Checking Dataset\n",
    "print(diamond_data.info())"
   ]
  },
  {
   "cell_type": "code",
   "execution_count": 84,
   "metadata": {},
   "outputs": [
    {
     "data": {
      "text/html": [
       "<div>\n",
       "<style scoped>\n",
       "    .dataframe tbody tr th:only-of-type {\n",
       "        vertical-align: middle;\n",
       "    }\n",
       "\n",
       "    .dataframe tbody tr th {\n",
       "        vertical-align: top;\n",
       "    }\n",
       "\n",
       "    .dataframe thead th {\n",
       "        text-align: right;\n",
       "    }\n",
       "</style>\n",
       "<table border=\"1\" class=\"dataframe\">\n",
       "  <thead>\n",
       "    <tr style=\"text-align: right;\">\n",
       "      <th></th>\n",
       "      <th>Unnamed: 0</th>\n",
       "      <th>carat</th>\n",
       "      <th>depth</th>\n",
       "      <th>table</th>\n",
       "      <th>price</th>\n",
       "      <th>x</th>\n",
       "      <th>y</th>\n",
       "      <th>z</th>\n",
       "    </tr>\n",
       "  </thead>\n",
       "  <tbody>\n",
       "    <tr>\n",
       "      <th>count</th>\n",
       "      <td>53940.000000</td>\n",
       "      <td>53940.000000</td>\n",
       "      <td>53940.000000</td>\n",
       "      <td>53940.000000</td>\n",
       "      <td>53940.000000</td>\n",
       "      <td>53940.000000</td>\n",
       "      <td>53940.000000</td>\n",
       "      <td>53940.000000</td>\n",
       "    </tr>\n",
       "    <tr>\n",
       "      <th>mean</th>\n",
       "      <td>26970.500000</td>\n",
       "      <td>0.797940</td>\n",
       "      <td>61.749405</td>\n",
       "      <td>57.457184</td>\n",
       "      <td>3932.799722</td>\n",
       "      <td>5.731157</td>\n",
       "      <td>5.734526</td>\n",
       "      <td>3.538734</td>\n",
       "    </tr>\n",
       "    <tr>\n",
       "      <th>std</th>\n",
       "      <td>15571.281097</td>\n",
       "      <td>0.474011</td>\n",
       "      <td>1.432621</td>\n",
       "      <td>2.234491</td>\n",
       "      <td>3989.439738</td>\n",
       "      <td>1.121761</td>\n",
       "      <td>1.142135</td>\n",
       "      <td>0.705699</td>\n",
       "    </tr>\n",
       "    <tr>\n",
       "      <th>min</th>\n",
       "      <td>1.000000</td>\n",
       "      <td>0.200000</td>\n",
       "      <td>43.000000</td>\n",
       "      <td>43.000000</td>\n",
       "      <td>326.000000</td>\n",
       "      <td>0.000000</td>\n",
       "      <td>0.000000</td>\n",
       "      <td>0.000000</td>\n",
       "    </tr>\n",
       "    <tr>\n",
       "      <th>25%</th>\n",
       "      <td>13485.750000</td>\n",
       "      <td>0.400000</td>\n",
       "      <td>61.000000</td>\n",
       "      <td>56.000000</td>\n",
       "      <td>950.000000</td>\n",
       "      <td>4.710000</td>\n",
       "      <td>4.720000</td>\n",
       "      <td>2.910000</td>\n",
       "    </tr>\n",
       "    <tr>\n",
       "      <th>50%</th>\n",
       "      <td>26970.500000</td>\n",
       "      <td>0.700000</td>\n",
       "      <td>61.800000</td>\n",
       "      <td>57.000000</td>\n",
       "      <td>2401.000000</td>\n",
       "      <td>5.700000</td>\n",
       "      <td>5.710000</td>\n",
       "      <td>3.530000</td>\n",
       "    </tr>\n",
       "    <tr>\n",
       "      <th>75%</th>\n",
       "      <td>40455.250000</td>\n",
       "      <td>1.040000</td>\n",
       "      <td>62.500000</td>\n",
       "      <td>59.000000</td>\n",
       "      <td>5324.250000</td>\n",
       "      <td>6.540000</td>\n",
       "      <td>6.540000</td>\n",
       "      <td>4.040000</td>\n",
       "    </tr>\n",
       "    <tr>\n",
       "      <th>max</th>\n",
       "      <td>53940.000000</td>\n",
       "      <td>5.010000</td>\n",
       "      <td>79.000000</td>\n",
       "      <td>95.000000</td>\n",
       "      <td>18823.000000</td>\n",
       "      <td>10.740000</td>\n",
       "      <td>58.900000</td>\n",
       "      <td>31.800000</td>\n",
       "    </tr>\n",
       "  </tbody>\n",
       "</table>\n",
       "</div>"
      ],
      "text/plain": [
       "         Unnamed: 0         carat         depth         table         price  \\\n",
       "count  53940.000000  53940.000000  53940.000000  53940.000000  53940.000000   \n",
       "mean   26970.500000      0.797940     61.749405     57.457184   3932.799722   \n",
       "std    15571.281097      0.474011      1.432621      2.234491   3989.439738   \n",
       "min        1.000000      0.200000     43.000000     43.000000    326.000000   \n",
       "25%    13485.750000      0.400000     61.000000     56.000000    950.000000   \n",
       "50%    26970.500000      0.700000     61.800000     57.000000   2401.000000   \n",
       "75%    40455.250000      1.040000     62.500000     59.000000   5324.250000   \n",
       "max    53940.000000      5.010000     79.000000     95.000000  18823.000000   \n",
       "\n",
       "                  x             y             z  \n",
       "count  53940.000000  53940.000000  53940.000000  \n",
       "mean       5.731157      5.734526      3.538734  \n",
       "std        1.121761      1.142135      0.705699  \n",
       "min        0.000000      0.000000      0.000000  \n",
       "25%        4.710000      4.720000      2.910000  \n",
       "50%        5.700000      5.710000      3.530000  \n",
       "75%        6.540000      6.540000      4.040000  \n",
       "max       10.740000     58.900000     31.800000  "
      ]
     },
     "execution_count": 84,
     "metadata": {},
     "output_type": "execute_result"
    }
   ],
   "source": [
    "diamond_data.describe()"
   ]
  },
  {
   "cell_type": "code",
   "execution_count": 85,
   "metadata": {},
   "outputs": [],
   "source": [
    "# Drop x,y,z column since it only refers to difference tolerance of cutting\n",
    "diamond_data = diamond_data.drop(['x','y','z'],axis=1)"
   ]
  },
  {
   "cell_type": "code",
   "execution_count": 86,
   "metadata": {},
   "outputs": [],
   "source": [
    "diamond_data = diamond_data.drop(['Unnamed: 0'],axis=1)"
   ]
  },
  {
   "cell_type": "code",
   "execution_count": 87,
   "metadata": {},
   "outputs": [
    {
     "name": "stdout",
     "output_type": "stream",
     "text": [
      "<class 'pandas.core.frame.DataFrame'>\n",
      "RangeIndex: 53940 entries, 0 to 53939\n",
      "Data columns (total 7 columns):\n",
      " #   Column   Non-Null Count  Dtype  \n",
      "---  ------   --------------  -----  \n",
      " 0   carat    53940 non-null  float64\n",
      " 1   cut      53940 non-null  object \n",
      " 2   color    53940 non-null  object \n",
      " 3   clarity  53940 non-null  object \n",
      " 4   depth    53940 non-null  float64\n",
      " 5   table    53940 non-null  float64\n",
      " 6   price    53940 non-null  int64  \n",
      "dtypes: float64(3), int64(1), object(3)\n",
      "memory usage: 2.9+ MB\n",
      "None\n"
     ]
    }
   ],
   "source": [
    "print(diamond_data.info())"
   ]
  },
  {
   "cell_type": "markdown",
   "metadata": {},
   "source": [
    "## **3. EDA**"
   ]
  },
  {
   "cell_type": "code",
   "execution_count": 88,
   "metadata": {},
   "outputs": [
    {
     "name": "stdout",
     "output_type": "stream",
     "text": [
      "carat      0\n",
      "cut        0\n",
      "color      0\n",
      "clarity    0\n",
      "depth      0\n",
      "table      0\n",
      "price      0\n",
      "dtype: int64\n"
     ]
    }
   ],
   "source": [
    "# Checking missing values\n",
    "print(diamond_data.isna().sum())"
   ]
  },
  {
   "cell_type": "code",
   "execution_count": 89,
   "metadata": {},
   "outputs": [
    {
     "name": "stdout",
     "output_type": "stream",
     "text": [
      "803\n"
     ]
    }
   ],
   "source": [
    "# Checking Duplicates\n",
    "print(diamond_data.duplicated().sum())"
   ]
  },
  {
   "cell_type": "markdown",
   "metadata": {},
   "source": [
    "## **4. Data Preprocessing**"
   ]
  },
  {
   "cell_type": "code",
   "execution_count": 90,
   "metadata": {},
   "outputs": [
    {
     "name": "stdout",
     "output_type": "stream",
     "text": [
      "carat  cut        color  clarity  depth  table  price\n",
      "0.79   Ideal      G      SI1      62.3   57.0   2898     5\n",
      "0.30   Ideal      H      SI1      62.2   57.0   450      5\n",
      "                  E      VS2      61.5   55.0   844      4\n",
      "0.31   Very Good  E      SI1      63.4   55.0   698      4\n",
      "       Ideal      D      VS2      61.5   56.0   734      4\n",
      "                                                        ..\n",
      "0.50   Very Good  E      VS2      61.8   57.0   1547     1\n",
      "                                         58.0   1624     1\n",
      "                                  62.1   62.0   1451     1\n",
      "                                  62.4   57.0   1568     1\n",
      "5.01   Fair       J      I1       65.5   59.0   18018    1\n",
      "Name: count, Length: 53137, dtype: int64\n"
     ]
    }
   ],
   "source": [
    "print(diamond_data.value_counts())"
   ]
  },
  {
   "cell_type": "code",
   "execution_count": 91,
   "metadata": {},
   "outputs": [
    {
     "data": {
      "text/plain": [
       "cut\n",
       "Ideal        21551\n",
       "Premium      13791\n",
       "Very Good    12082\n",
       "Good          4906\n",
       "Fair          1610\n",
       "Name: count, dtype: int64"
      ]
     },
     "execution_count": 91,
     "metadata": {},
     "output_type": "execute_result"
    }
   ],
   "source": [
    "diamond_data['cut'].value_counts()"
   ]
  },
  {
   "cell_type": "code",
   "execution_count": 92,
   "metadata": {},
   "outputs": [
    {
     "data": {
      "text/plain": [
       "color\n",
       "G    11292\n",
       "E     9797\n",
       "F     9542\n",
       "H     8304\n",
       "D     6775\n",
       "I     5422\n",
       "J     2808\n",
       "Name: count, dtype: int64"
      ]
     },
     "execution_count": 92,
     "metadata": {},
     "output_type": "execute_result"
    }
   ],
   "source": [
    "diamond_data['color'].value_counts()"
   ]
  },
  {
   "cell_type": "code",
   "execution_count": 93,
   "metadata": {},
   "outputs": [
    {
     "data": {
      "text/plain": [
       "clarity\n",
       "SI1     13065\n",
       "VS2     12258\n",
       "SI2      9194\n",
       "VS1      8171\n",
       "VVS2     5066\n",
       "VVS1     3655\n",
       "IF       1790\n",
       "I1        741\n",
       "Name: count, dtype: int64"
      ]
     },
     "execution_count": 93,
     "metadata": {},
     "output_type": "execute_result"
    }
   ],
   "source": [
    "diamond_data['clarity'].value_counts()"
   ]
  },
  {
   "cell_type": "code",
   "execution_count": 94,
   "metadata": {},
   "outputs": [
    {
     "data": {
      "text/plain": [
       "price\n",
       "605      132\n",
       "802      127\n",
       "625      126\n",
       "828      125\n",
       "776      124\n",
       "        ... \n",
       "8816       1\n",
       "14704      1\n",
       "14699      1\n",
       "14698      1\n",
       "9793       1\n",
       "Name: count, Length: 11602, dtype: int64"
      ]
     },
     "execution_count": 94,
     "metadata": {},
     "output_type": "execute_result"
    }
   ],
   "source": [
    "diamond_data['price'].value_counts()"
   ]
  },
  {
   "cell_type": "code",
   "execution_count": 95,
   "metadata": {},
   "outputs": [
    {
     "data": {
      "text/plain": [
       "carat      53940\n",
       "cut        53940\n",
       "color      53940\n",
       "clarity    53940\n",
       "depth      53940\n",
       "table      53940\n",
       "price      53940\n",
       "dtype: int64"
      ]
     },
     "execution_count": 95,
     "metadata": {},
     "output_type": "execute_result"
    }
   ],
   "source": [
    "diamond_data.count()"
   ]
  },
  {
   "cell_type": "code",
   "execution_count": 96,
   "metadata": {},
   "outputs": [
    {
     "data": {
      "text/html": [
       "<div>\n",
       "<style scoped>\n",
       "    .dataframe tbody tr th:only-of-type {\n",
       "        vertical-align: middle;\n",
       "    }\n",
       "\n",
       "    .dataframe tbody tr th {\n",
       "        vertical-align: top;\n",
       "    }\n",
       "\n",
       "    .dataframe thead th {\n",
       "        text-align: right;\n",
       "    }\n",
       "</style>\n",
       "<table border=\"1\" class=\"dataframe\">\n",
       "  <thead>\n",
       "    <tr style=\"text-align: right;\">\n",
       "      <th></th>\n",
       "      <th>carat</th>\n",
       "      <th>cut</th>\n",
       "      <th>color</th>\n",
       "      <th>clarity</th>\n",
       "      <th>depth</th>\n",
       "      <th>table</th>\n",
       "      <th>price</th>\n",
       "    </tr>\n",
       "  </thead>\n",
       "  <tbody>\n",
       "    <tr>\n",
       "      <th>0</th>\n",
       "      <td>0.23</td>\n",
       "      <td>Ideal</td>\n",
       "      <td>E</td>\n",
       "      <td>SI2</td>\n",
       "      <td>61.5</td>\n",
       "      <td>55.0</td>\n",
       "      <td>326</td>\n",
       "    </tr>\n",
       "    <tr>\n",
       "      <th>1</th>\n",
       "      <td>0.21</td>\n",
       "      <td>Premium</td>\n",
       "      <td>E</td>\n",
       "      <td>SI1</td>\n",
       "      <td>59.8</td>\n",
       "      <td>61.0</td>\n",
       "      <td>326</td>\n",
       "    </tr>\n",
       "    <tr>\n",
       "      <th>2</th>\n",
       "      <td>0.23</td>\n",
       "      <td>Good</td>\n",
       "      <td>E</td>\n",
       "      <td>VS1</td>\n",
       "      <td>56.9</td>\n",
       "      <td>65.0</td>\n",
       "      <td>327</td>\n",
       "    </tr>\n",
       "    <tr>\n",
       "      <th>3</th>\n",
       "      <td>0.29</td>\n",
       "      <td>Premium</td>\n",
       "      <td>I</td>\n",
       "      <td>VS2</td>\n",
       "      <td>62.4</td>\n",
       "      <td>58.0</td>\n",
       "      <td>334</td>\n",
       "    </tr>\n",
       "    <tr>\n",
       "      <th>4</th>\n",
       "      <td>0.31</td>\n",
       "      <td>Good</td>\n",
       "      <td>J</td>\n",
       "      <td>SI2</td>\n",
       "      <td>63.3</td>\n",
       "      <td>58.0</td>\n",
       "      <td>335</td>\n",
       "    </tr>\n",
       "  </tbody>\n",
       "</table>\n",
       "</div>"
      ],
      "text/plain": [
       "   carat      cut color clarity  depth  table  price\n",
       "0   0.23    Ideal     E     SI2   61.5   55.0    326\n",
       "1   0.21  Premium     E     SI1   59.8   61.0    326\n",
       "2   0.23     Good     E     VS1   56.9   65.0    327\n",
       "3   0.29  Premium     I     VS2   62.4   58.0    334\n",
       "4   0.31     Good     J     SI2   63.3   58.0    335"
      ]
     },
     "execution_count": 96,
     "metadata": {},
     "output_type": "execute_result"
    }
   ],
   "source": [
    "diamond_data.head()"
   ]
  },
  {
   "cell_type": "code",
   "execution_count": 97,
   "metadata": {},
   "outputs": [
    {
     "name": "stdout",
     "output_type": "stream",
     "text": [
      "['Fair' 'Good' 'Ideal' 'Premium' 'Very Good']\n",
      "['D' 'E' 'F' 'G' 'H' 'I' 'J']\n",
      "['I1' 'IF' 'SI1' 'SI2' 'VS1' 'VS2' 'VVS1' 'VVS2']\n"
     ]
    }
   ],
   "source": [
    "# Change object --> numerical data\n",
    "# Check for value count for categorical \n",
    "print (np.unique(diamond_data[['cut']].values))\n",
    "print (np.unique(diamond_data[['color']].values))\n",
    "print (np.unique(diamond_data[['clarity']].values))\n"
   ]
  },
  {
   "cell_type": "code",
   "execution_count": 98,
   "metadata": {},
   "outputs": [
    {
     "name": "stdout",
     "output_type": "stream",
     "text": [
      "<class 'pandas.core.frame.DataFrame'>\n",
      "RangeIndex: 53940 entries, 0 to 53939\n",
      "Data columns (total 7 columns):\n",
      " #   Column   Non-Null Count  Dtype  \n",
      "---  ------   --------------  -----  \n",
      " 0   carat    53940 non-null  float64\n",
      " 1   cut      53940 non-null  float64\n",
      " 2   color    53940 non-null  float64\n",
      " 3   clarity  53940 non-null  float64\n",
      " 4   depth    53940 non-null  float64\n",
      " 5   table    53940 non-null  float64\n",
      " 6   price    53940 non-null  int64  \n",
      "dtypes: float64(6), int64(1)\n",
      "memory usage: 2.9 MB\n",
      "None\n"
     ]
    }
   ],
   "source": [
    "ordinal_encoder = preprocessing.OrdinalEncoder()\n",
    "diamond_data[['cut','color','clarity']] = ordinal_encoder.fit_transform(diamond_data[['cut','color','clarity']].values)\n",
    "print(diamond_data.info())"
   ]
  },
  {
   "cell_type": "markdown",
   "metadata": {},
   "source": [
    "## **4. Data Splitting**"
   ]
  },
  {
   "cell_type": "code",
   "execution_count": 99,
   "metadata": {},
   "outputs": [],
   "source": [
    "features = diamond_data.drop('price', axis=1)\n",
    "labels = diamond_data['price']"
   ]
  },
  {
   "cell_type": "code",
   "execution_count": 100,
   "metadata": {},
   "outputs": [],
   "source": [
    "x_train, x_test, y_train, y_test = train_test_split(features,labels,train_size=0.7,shuffle=True,random_state=42)"
   ]
  },
  {
   "cell_type": "markdown",
   "metadata": {},
   "source": [
    "## **5. Pipeline Creation**"
   ]
  },
  {
   "cell_type": "code",
   "execution_count": 101,
   "metadata": {},
   "outputs": [],
   "source": [
    "scaler_dict = {\n",
    "    'min_max' : MinMaxScaler(),\n",
    "    'standard' : StandardScaler()\n",
    "}\n",
    "\n",
    "model_dict = {\n",
    "    'sgd' : SGDRegressor(),\n",
    "    'knn_r' : KNeighborsRegressor(),\n",
    "    'svr' : SVR(),\n",
    "    'decision_tree_r' : DecisionTreeRegressor(),\n",
    "    'random_forest_r' : RandomForestRegressor()    \n",
    "}\n",
    "\n",
    "# Create empty list of pipeline\n",
    "pipelines = []\n",
    "for scaler_name, scaler_class in scaler_dict.items():\n",
    "    for model_name, model_class in model_dict.items():\n",
    "        # Pipeline(list_of_tuples)\n",
    "        pipeline = Pipeline([    \n",
    "            (scaler_name,scaler_class),\n",
    "            (model_name,model_class)\n",
    "        ])\n",
    "        pipelines.append(pipeline)"
   ]
  },
  {
   "cell_type": "code",
   "execution_count": 102,
   "metadata": {},
   "outputs": [],
   "source": [
    "# Define a function to contain the pipeline training and evaluation code\n",
    "def train_evaluate(pipeline,x_train,y_train,x_test,y_test):\n",
    "  \n",
    "    # Step 1: Perform pipeline training with scaler\n",
    "    pipeline.fit(x_train,y_train) # Train together with feature scaling\n",
    "    prediction = pipeline.predict(x_test)\n",
    "\n",
    "    # Step 2: Evaluate pipeline\n",
    "    print(\"Mean Squared Error:\", metrics.mean_squared_error(y_test,prediction))\n",
    "    print(\"Mean Absolute Error:\", metrics.mean_absolute_error(y_test,prediction))\n",
    "    print(\"Mean Absolute Percentage Error:\", metrics.mean_absolute_percentage_error(y_test,prediction))\n",
    "    r2 = pipeline.score(x_test,y_test)\n",
    "    print(\"R2 Score:\", r2)\n",
    "    return r2"
   ]
  },
  {
   "cell_type": "code",
   "execution_count": 103,
   "metadata": {},
   "outputs": [
    {
     "name": "stdout",
     "output_type": "stream",
     "text": [
      "\n",
      "Training and Evaluating pipeline # 1\n",
      "Steps: [('min_max', MinMaxScaler()), ('sgd', SGDRegressor())]\n"
     ]
    },
    {
     "name": "stderr",
     "output_type": "stream",
     "text": [
      "2024/08/09 15:43:22 INFO mlflow.utils.autologging_utils: Created MLflow autologging run with ID '114dc0ffbb374232841b6910c982bcfe', which will track hyperparameters, performance metrics, model artifacts, and lineage information for the current sklearn workflow\n",
      "2024/08/09 15:43:31 INFO mlflow.utils.autologging_utils: Created MLflow autologging run with ID 'f7c5208699d24d5694a72fb62123f2b3', which will track hyperparameters, performance metrics, model artifacts, and lineage information for the current sklearn workflow\n"
     ]
    },
    {
     "name": "stdout",
     "output_type": "stream",
     "text": [
      "Mean Squared Error: 1860855.0507421885\n",
      "Mean Absolute Error: 923.4247292826412\n",
      "Mean Absolute Percentage Error: 0.4310240010539155\n",
      "R2 Score: 0.8806835455973899\n",
      "\n",
      "Training and Evaluating pipeline # 2\n",
      "Steps: [('min_max', MinMaxScaler()), ('knn_r', KNeighborsRegressor())]\n",
      "Mean Squared Error: 603160.155755778\n",
      "Mean Absolute Error: 402.7626622172785\n",
      "Mean Absolute Percentage Error: 0.12505323064319565\n"
     ]
    },
    {
     "name": "stderr",
     "output_type": "stream",
     "text": [
      "2024/08/09 15:43:40 INFO mlflow.utils.autologging_utils: Created MLflow autologging run with ID 'c43fd159718d4ace8fdf3772a68019e6', which will track hyperparameters, performance metrics, model artifacts, and lineage information for the current sklearn workflow\n"
     ]
    },
    {
     "name": "stdout",
     "output_type": "stream",
     "text": [
      "R2 Score: 0.9613258801683656\n",
      "\n",
      "Training and Evaluating pipeline # 3\n",
      "Steps: [('min_max', MinMaxScaler()), ('svr', SVR())]\n",
      "Mean Squared Error: 13359451.020152168\n",
      "Mean Absolute Error: 2285.266720425127\n",
      "Mean Absolute Percentage Error: 0.8766739077231559\n"
     ]
    },
    {
     "name": "stderr",
     "output_type": "stream",
     "text": [
      "2024/08/09 15:51:37 INFO mlflow.utils.autologging_utils: Created MLflow autologging run with ID '22822e63698f4853bc47cd5d590876f0', which will track hyperparameters, performance metrics, model artifacts, and lineage information for the current sklearn workflow\n"
     ]
    },
    {
     "name": "stdout",
     "output_type": "stream",
     "text": [
      "R2 Score: 0.14340328234908306\n",
      "\n",
      "Training and Evaluating pipeline # 4\n",
      "Steps: [('min_max', MinMaxScaler()), ('decision_tree_r', DecisionTreeRegressor())]\n"
     ]
    },
    {
     "name": "stderr",
     "output_type": "stream",
     "text": [
      "2024/08/09 15:51:44 INFO mlflow.utils.autologging_utils: Created MLflow autologging run with ID 'af22a8984bb04a06b9cc59ed84cc5dca', which will track hyperparameters, performance metrics, model artifacts, and lineage information for the current sklearn workflow\n"
     ]
    },
    {
     "name": "stdout",
     "output_type": "stream",
     "text": [
      "Mean Squared Error: 516151.27349224384\n",
      "Mean Absolute Error: 358.8992262125466\n",
      "Mean Absolute Percentage Error: 0.10343609673795941\n",
      "R2 Score: 0.9669048162220246\n",
      "\n",
      "Training and Evaluating pipeline # 5\n",
      "Steps: [('min_max', MinMaxScaler()), ('random_forest_r', RandomForestRegressor())]\n",
      "Mean Squared Error: 306638.6087943577\n",
      "Mean Absolute Error: 285.3854619603494\n",
      "Mean Absolute Percentage Error: 0.08364263070940317\n"
     ]
    },
    {
     "name": "stderr",
     "output_type": "stream",
     "text": [
      "2024/08/09 15:52:06 INFO mlflow.utils.autologging_utils: Created MLflow autologging run with ID 'b56192306f0c4469bbc261f045a05972', which will track hyperparameters, performance metrics, model artifacts, and lineage information for the current sklearn workflow\n"
     ]
    },
    {
     "name": "stdout",
     "output_type": "stream",
     "text": [
      "R2 Score: 0.9803385913536364\n",
      "\n",
      "Training and Evaluating pipeline # 6\n",
      "Steps: [('standard', StandardScaler()), ('sgd', SGDRegressor())]\n"
     ]
    },
    {
     "name": "stderr",
     "output_type": "stream",
     "text": [
      "2024/08/09 15:52:13 INFO mlflow.utils.autologging_utils: Created MLflow autologging run with ID '2c8a08d772064eebac8af1d1c4a792d5', which will track hyperparameters, performance metrics, model artifacts, and lineage information for the current sklearn workflow\n"
     ]
    },
    {
     "name": "stdout",
     "output_type": "stream",
     "text": [
      "Mean Squared Error: 1859112.4602272017\n",
      "Mean Absolute Error: 929.8506356163617\n",
      "Mean Absolute Percentage Error: 0.45741978052010934\n",
      "R2 Score: 0.8807952790296316\n",
      "\n",
      "Training and Evaluating pipeline # 7\n",
      "Steps: [('standard', StandardScaler()), ('knn_r', KNeighborsRegressor())]\n",
      "Mean Squared Error: 776534.624852305\n",
      "Mean Absolute Error: 489.53746137683845\n",
      "Mean Absolute Percentage Error: 0.15910131206465888\n"
     ]
    },
    {
     "name": "stderr",
     "output_type": "stream",
     "text": [
      "2024/08/09 15:52:23 INFO mlflow.utils.autologging_utils: Created MLflow autologging run with ID '7959026748314857bf3d0d7c8a7947b1', which will track hyperparameters, performance metrics, model artifacts, and lineage information for the current sklearn workflow\n"
     ]
    },
    {
     "name": "stdout",
     "output_type": "stream",
     "text": [
      "R2 Score: 0.9502092556208052\n",
      "\n",
      "Training and Evaluating pipeline # 8\n",
      "Steps: [('standard', StandardScaler()), ('svr', SVR())]\n",
      "Mean Squared Error: 9505115.868596125\n",
      "Mean Absolute Error: 1675.8046744678197\n",
      "Mean Absolute Percentage Error: 0.5136811203382545\n"
     ]
    },
    {
     "name": "stderr",
     "output_type": "stream",
     "text": [
      "2024/08/09 16:00:21 INFO mlflow.utils.autologging_utils: Created MLflow autologging run with ID 'c514e4ce06d44c7884c173d2069cef76', which will track hyperparameters, performance metrics, model artifacts, and lineage information for the current sklearn workflow\n"
     ]
    },
    {
     "name": "stdout",
     "output_type": "stream",
     "text": [
      "R2 Score: 0.3905399973659738\n",
      "\n",
      "Training and Evaluating pipeline # 9\n",
      "Steps: [('standard', StandardScaler()), ('decision_tree_r', DecisionTreeRegressor())]\n"
     ]
    },
    {
     "name": "stderr",
     "output_type": "stream",
     "text": [
      "2024/08/09 16:00:29 INFO mlflow.utils.autologging_utils: Created MLflow autologging run with ID 'cea5305652b14ecba8e9c22e15ca0821', which will track hyperparameters, performance metrics, model artifacts, and lineage information for the current sklearn workflow\n"
     ]
    },
    {
     "name": "stdout",
     "output_type": "stream",
     "text": [
      "Mean Squared Error: 504209.73218091036\n",
      "Mean Absolute Error: 355.9479016955936\n",
      "Mean Absolute Percentage Error: 0.10289044948004936\n",
      "R2 Score: 0.9676704977665395\n",
      "\n",
      "Training and Evaluating pipeline # 10\n",
      "Steps: [('standard', StandardScaler()), ('random_forest_r', RandomForestRegressor())]\n",
      "Mean Squared Error: 307454.9700478274\n",
      "Mean Absolute Error: 284.9478043020816\n",
      "Mean Absolute Percentage Error: 0.08337546131309748\n",
      "R2 Score: 0.980286246959463\n"
     ]
    }
   ],
   "source": [
    "# Loop through the list of pipelines to perform the training and evaluation\n",
    "r2_list = []\n",
    "for i, pipeline in enumerate(pipelines):  # enumerate always return index value\n",
    "    print(\"\\nTraining and Evaluating pipeline #\", i+1)\n",
    "    print(\"Steps:\",pipeline.steps)\n",
    "    r2 = train_evaluate(pipeline,x_train,y_train,x_test,y_test)\n",
    "    r2_list.append(r2)"
   ]
  },
  {
   "cell_type": "code",
   "execution_count": 104,
   "metadata": {},
   "outputs": [
    {
     "name": "stdout",
     "output_type": "stream",
     "text": [
      "4\n",
      "Best Pipeline is # 5\n",
      "Step: [('min_max', MinMaxScaler()), ('random_forest_r', RandomForestRegressor())]\n"
     ]
    }
   ],
   "source": [
    "# Find the best pipeline by looking at the score\n",
    "best_pipeline_index = np.where(np.array(r2_list)==max(r2_list))\n",
    "print(best_pipeline_index[0][0])\n",
    "print(\"Best Pipeline is #\", best_pipeline_index[0][0]+1)\n",
    "print(\"Step:\", pipelines[best_pipeline_index[0][0]].steps)"
   ]
  },
  {
   "cell_type": "code",
   "execution_count": 105,
   "metadata": {},
   "outputs": [],
   "source": [
    "# Get the best pipeline out\n",
    "best_pipeline = pipelines[best_pipeline_index[0][0]]"
   ]
  },
  {
   "cell_type": "markdown",
   "metadata": {},
   "source": [
    "## **6. MLFLOW**"
   ]
  },
  {
   "cell_type": "code",
   "execution_count": 106,
   "metadata": {},
   "outputs": [
    {
     "name": "stdout",
     "output_type": "stream",
     "text": [
      "C:\\Users\\001057\\Desktop\\ML_Ciast\\batch_1\\assessment\n"
     ]
    }
   ],
   "source": [
    "# Check working directory\n",
    "print(os.getcwd())"
   ]
  },
  {
   "cell_type": "code",
   "execution_count": 107,
   "metadata": {},
   "outputs": [
    {
     "name": "stdout",
     "output_type": "stream",
     "text": [
      "C:\\Users\\001057\\Desktop\\ML_Ciast\\batch_1\\assessment\n"
     ]
    }
   ],
   "source": [
    "# Checking working directory for mlflow\n",
    "# os.chdir(\"..\")\n",
    "print(os.getcwd())"
   ]
  },
  {
   "cell_type": "code",
   "execution_count": 108,
   "metadata": {},
   "outputs": [
    {
     "name": "stdout",
     "output_type": "stream",
     "text": [
      "C:\\Users\\001057\\Desktop\\ML_Ciast\\batch_1\\assessment\n"
     ]
    }
   ],
   "source": [
    "os.chdir(r\"C:\\Users\\001057\\Desktop\\ML_Ciast\\batch_1\\assessment\")\n",
    "print(os.getcwd())"
   ]
  },
  {
   "cell_type": "code",
   "execution_count": 109,
   "metadata": {},
   "outputs": [],
   "source": [
    "# Create the training in mlflow experiment\n",
    "# mlflow.create_experiment('diamond_experiment')"
   ]
  },
  {
   "cell_type": "code",
   "execution_count": 110,
   "metadata": {},
   "outputs": [],
   "source": [
    "# Set the experiment\n",
    "mlflow.set_experiment('diamond_experiment')\n",
    "\n",
    "# Set the experiment tag\n",
    "mlflow.set_experiment_tag('diamond_version','2.15.1')"
   ]
  },
  {
   "cell_type": "code",
   "execution_count": 111,
   "metadata": {},
   "outputs": [],
   "source": [
    "model_dict = {\n",
    "    'sgd' : SGDRegressor(),\n",
    "    'knn_r' : KNeighborsRegressor(),\n",
    "    # 'svr' : SVR(),\n",
    "    'decision_tree_r' : DecisionTreeRegressor(),\n",
    "    'random_forest_r' : RandomForestRegressor()    \n",
    "}"
   ]
  },
  {
   "cell_type": "code",
   "execution_count": 112,
   "metadata": {},
   "outputs": [],
   "source": [
    "for model_name, model_class in model_dict.items():\n",
    "    pipeline = Pipeline([\n",
    "    ('scaler', preprocessing.MinMaxScaler()),\n",
    "    (model_name, model_class)\n",
    "    ])\n",
    "    # Start mlflow run4\n",
    "    with mlflow.start_run(run_name=model_name):\n",
    "        mlflow.sklearn.autolog()\n",
    "        pipeline.fit(x_train,y_train.values)\n",
    "        prediction = pipeline.predict(x_test)\n",
    "        mae = metrics.mean_squared_error(y_test.values,prediction)\n",
    "        mse = metrics.mean_squared_error(y_test,prediction)\n",
    "        mape = metrics.mean_absolute_percentage_error(y_test,prediction)\n",
    "        r2 = pipeline.score(x_test,y_test)\n"
   ]
  },
  {
   "cell_type": "code",
   "execution_count": null,
   "metadata": {},
   "outputs": [],
   "source": []
  },
  {
   "cell_type": "markdown",
   "metadata": {},
   "source": [
    "## **7. Pickle**"
   ]
  },
  {
   "cell_type": "code",
   "execution_count": 113,
   "metadata": {},
   "outputs": [],
   "source": [
    "with open('src/ordinal_encoder.pkl','wb') as f:\n",
    "    pkl.dump(ordinal_encoder,f)"
   ]
  }
 ],
 "metadata": {
  "kernelspec": {
   "display_name": "my_env",
   "language": "python",
   "name": "my_env"
  },
  "language_info": {
   "codemirror_mode": {
    "name": "ipython",
    "version": 3
   },
   "file_extension": ".py",
   "mimetype": "text/x-python",
   "name": "python",
   "nbconvert_exporter": "python",
   "pygments_lexer": "ipython3",
   "version": "3.10.14"
  }
 },
 "nbformat": 4,
 "nbformat_minor": 2
}
